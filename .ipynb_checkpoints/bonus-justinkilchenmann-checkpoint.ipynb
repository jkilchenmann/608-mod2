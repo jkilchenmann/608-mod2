{
 "cells": [
  {
   "cell_type": "code",
   "execution_count": 1,
   "id": "1b6518e3-40d6-4777-8794-3b1d9a7b78ed",
   "metadata": {},
   "outputs": [],
   "source": [
    "points = [109, 120, 136, 135, 116, 112, 123, 135, 124, 104, 128, 137, 123, 132, 131, 131, 123, 131, 132, 133, 127, 133, 109, 129, 111, 129, 133, 94, 135, 113, 120, 131, 127, 128, 102, 136, 134, 115, 137, 127, 125, 130, 132, 132, 127, 30, 129, 138, 110, 134, 135, 131, 111, 137, 131, 134, 118, 109, 129, 127, 131, 128, 123, 113, 137, 135, 138, 138, 134, 131, 134, 132, 133, 134, 108, 127, 134, 107, 98, 130, 135, 77, 125, 87, 106, 136, 135, 135, 136, 97, 106, 104, 137, 128, 134, 130, 131, 60, 118, 123, 137, 136, 120, 110, 131, 135, 126, 122, 121, 101, 137, 138, 92, 119, 134, 129, 130, 105, 121, 131, 134, 66, 122, 113, 116, 130, 130, 130, 138, 131, 135, 136, 136, 132, 135, 124, 125, 124, 123, 126, 136, 138, 128, 101, 123, 61, 133, 134, 121, 130, 120, 137]"
   ]
  },
  {
   "cell_type": "code",
   "execution_count": 2,
   "id": "c690e15b-abf2-48fb-a545-c42611153446",
   "metadata": {},
   "outputs": [
    {
     "data": {
      "text/plain": [
       "152"
      ]
     },
     "execution_count": 2,
     "metadata": {},
     "output_type": "execute_result"
    }
   ],
   "source": [
    "len(points)"
   ]
  },
  {
   "cell_type": "code",
   "execution_count": 3,
   "id": "00ba832a-b937-413f-9ef6-4653bc229209",
   "metadata": {},
   "outputs": [
    {
     "data": {
      "text/plain": [
       "18762"
      ]
     },
     "execution_count": 3,
     "metadata": {},
     "output_type": "execute_result"
    }
   ],
   "source": [
    "sum(points)"
   ]
  },
  {
   "cell_type": "code",
   "execution_count": 4,
   "id": "83ca4e9a-dacc-4b18-b74f-f1dd8344b821",
   "metadata": {},
   "outputs": [],
   "source": [
    "import statistics"
   ]
  },
  {
   "cell_type": "code",
   "execution_count": 5,
   "id": "f6ec95e0-bc79-4195-9475-7f45524b9d7f",
   "metadata": {},
   "outputs": [
    {
     "name": "stdout",
     "output_type": "stream",
     "text": [
      " The mean number of points =  123.43\n"
     ]
    }
   ],
   "source": [
    "mean = sum(points) / len(points)\n",
    "print (' The mean number of points = ', round(mean,2)  )"
   ]
  },
  {
   "cell_type": "code",
   "execution_count": 6,
   "id": "2836a188-85c5-4a38-bf72-6e0902b8ec9c",
   "metadata": {},
   "outputs": [
    {
     "data": {
      "text/plain": [
       "123.4342105263158"
      ]
     },
     "execution_count": 6,
     "metadata": {},
     "output_type": "execute_result"
    }
   ],
   "source": [
    "statistics.mean(points)"
   ]
  },
  {
   "cell_type": "code",
   "execution_count": 7,
   "id": "44304139-5d9f-4610-bc5f-bb4f8d86bc2e",
   "metadata": {},
   "outputs": [
    {
     "data": {
      "text/plain": [
       "129.0"
      ]
     },
     "execution_count": 7,
     "metadata": {},
     "output_type": "execute_result"
    }
   ],
   "source": [
    "statistics.median(points)"
   ]
  },
  {
   "cell_type": "code",
   "execution_count": 8,
   "id": "1b30c89e-519f-408f-bdad-b5a6d1a67875",
   "metadata": {},
   "outputs": [
    {
     "data": {
      "text/plain": [
       "131"
      ]
     },
     "execution_count": 8,
     "metadata": {},
     "output_type": "execute_result"
    }
   ],
   "source": [
    "statistics.mode(points)"
   ]
  }
 ],
 "metadata": {
  "kernelspec": {
   "display_name": "Python 3 (ipykernel)",
   "language": "python",
   "name": "python3"
  },
  "language_info": {
   "codemirror_mode": {
    "name": "ipython",
    "version": 3
   },
   "file_extension": ".py",
   "mimetype": "text/x-python",
   "name": "python",
   "nbconvert_exporter": "python",
   "pygments_lexer": "ipython3",
   "version": "3.9.7"
  }
 },
 "nbformat": 4,
 "nbformat_minor": 5
}
