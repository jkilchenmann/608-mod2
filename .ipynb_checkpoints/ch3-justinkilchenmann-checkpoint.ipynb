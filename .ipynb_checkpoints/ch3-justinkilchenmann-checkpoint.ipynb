{
 "cells": [
  {
   "cell_type": "markdown",
   "id": "e0f3f7a2-9ed5-4a4f-b3ab-919a9d2bf851",
   "metadata": {},
   "source": [
    "Self Check 3.8\n"
   ]
  },
  {
   "cell_type": "code",
   "execution_count": 1,
   "id": "87ce0334-a9ee-48a2-b165-4a5a1ab5e2c1",
   "metadata": {},
   "outputs": [],
   "source": [
    "total = 0"
   ]
  },
  {
   "cell_type": "code",
   "execution_count": 2,
   "id": "cae458a6-3f03-4b3d-b34d-9541ffe9f7e7",
   "metadata": {},
   "outputs": [],
   "source": [
    "for number in range (1000001):\n",
    "    total = total + number\n",
    "    "
   ]
  },
  {
   "cell_type": "code",
   "execution_count": 3,
   "id": "78af4892-7870-46dc-8fbe-6032192bec6c",
   "metadata": {},
   "outputs": [
    {
     "data": {
      "text/plain": [
       "500000500000"
      ]
     },
     "execution_count": 3,
     "metadata": {},
     "output_type": "execute_result"
    }
   ],
   "source": [
    "total"
   ]
  },
  {
   "cell_type": "markdown",
   "id": "2535b4c8-b2a0-4072-9e14-6cd8a61f5a5b",
   "metadata": {},
   "source": [
    "Self Check 3.9"
   ]
  },
  {
   "cell_type": "code",
   "execution_count": 4,
   "id": "8807955a-b838-4f0e-8ffc-2b5e852be539",
   "metadata": {},
   "outputs": [],
   "source": [
    "x = 12"
   ]
  },
  {
   "cell_type": "code",
   "execution_count": 5,
   "id": "bbe9dd00-b2c0-4fe0-90c5-854b4431effe",
   "metadata": {},
   "outputs": [],
   "source": [
    "x **= 2"
   ]
  },
  {
   "cell_type": "code",
   "execution_count": 6,
   "id": "eb040a17-e178-4ac2-9c89-8efd5f59abb3",
   "metadata": {},
   "outputs": [
    {
     "data": {
      "text/plain": [
       "144"
      ]
     },
     "execution_count": 6,
     "metadata": {},
     "output_type": "execute_result"
    }
   ],
   "source": [
    "x"
   ]
  },
  {
   "cell_type": "markdown",
   "id": "6b992d02-95a3-400e-939e-1bde2d30767d",
   "metadata": {},
   "source": [
    "3.10.3"
   ]
  },
  {
   "cell_type": "code",
   "execution_count": 7,
   "id": "fa4d7ad7-bbb9-4f09-8ecb-0cf2c7b38496",
   "metadata": {},
   "outputs": [
    {
     "name": "stdout",
     "output_type": "stream",
     "text": [
      "Class average is 81.7\n"
     ]
    }
   ],
   "source": [
    "# fig03_01.py\n",
    "\"\"\"Class average program with sequence-controlled repetition\"\"\"\n",
    "\n",
    "# initialization phase\n",
    "total = 0 # sum of grades\n",
    "grade_counter = 0\n",
    "grades = [98, 76, 71, 87, 83, 90, 57, 79, 82, 94] # list of 10 grades\n",
    "\n",
    "#processing phase\n",
    "for grade in grades:\n",
    "    total += grade # add current grade to the running total\n",
    "    grade_counter += 1 # indicate that one more grade was processed\n",
    "    \n",
    "# termination phase\n",
    "average = total / grade_counter\n",
    "print(f'Class average is {average}')"
   ]
  },
  {
   "cell_type": "markdown",
   "id": "c75c5eb1-f301-4a3c-99a8-59a0ff2bdee2",
   "metadata": {},
   "source": [
    "Self Check 3.10"
   ]
  },
  {
   "cell_type": "code",
   "execution_count": 8,
   "id": "2dd22c43-9a3e-43bb-9b05-54cef7c8e2db",
   "metadata": {},
   "outputs": [],
   "source": [
    "number1 = 7"
   ]
  },
  {
   "cell_type": "code",
   "execution_count": 9,
   "id": "a2712edd-0bf4-450f-a3e8-00f88ffd165c",
   "metadata": {},
   "outputs": [],
   "source": [
    "number2 = 5"
   ]
  },
  {
   "cell_type": "code",
   "execution_count": 10,
   "id": "73ed1fbc-ac75-40b9-8b50-1b2e3fa1249d",
   "metadata": {},
   "outputs": [
    {
     "name": "stdout",
     "output_type": "stream",
     "text": [
      "7 times 5 is 35\n"
     ]
    }
   ],
   "source": [
    "print(f'{number1} times {number2} is {number1 * number2}')"
   ]
  },
  {
   "cell_type": "markdown",
   "id": "341d216e-095a-40fd-abee-eb1d0e308558",
   "metadata": {},
   "source": [
    "3.13"
   ]
  },
  {
   "cell_type": "code",
   "execution_count": 11,
   "id": "ff2a80de-8d80-4652-809a-e55997acf599",
   "metadata": {},
   "outputs": [
    {
     "name": "stdout",
     "output_type": "stream",
     "text": [
      "5 6 7 8 9 "
     ]
    }
   ],
   "source": [
    "for number in range(5, 10):\n",
    "    print(number, end=' ')\n",
    "    "
   ]
  },
  {
   "cell_type": "code",
   "execution_count": 12,
   "id": "b6a0010c-4fcb-49eb-b1ce-467860792626",
   "metadata": {},
   "outputs": [
    {
     "name": "stdout",
     "output_type": "stream",
     "text": [
      "0 2 4 6 8 "
     ]
    }
   ],
   "source": [
    "for number in range(0, 10, 2):\n",
    "    print (number, end=' ')"
   ]
  },
  {
   "cell_type": "code",
   "execution_count": 13,
   "id": "d0902357-5d62-472b-beb3-8a06e7aeffd0",
   "metadata": {},
   "outputs": [
    {
     "name": "stdout",
     "output_type": "stream",
     "text": [
      "10 8 6 4 2 "
     ]
    }
   ],
   "source": [
    "for number in range(10, 0, -2):\n",
    "    print(number, end=' ')"
   ]
  },
  {
   "cell_type": "markdown",
   "id": "b114abc3-2378-4446-9517-caefd1620f12",
   "metadata": {},
   "source": [
    "3.15"
   ]
  },
  {
   "cell_type": "code",
   "execution_count": 14,
   "id": "b3c788ed-a39a-43d2-991b-a682de352504",
   "metadata": {},
   "outputs": [
    {
     "name": "stdout",
     "output_type": "stream",
     "text": [
      "0 1 2 3 4 5 6 7 8 9 "
     ]
    }
   ],
   "source": [
    "for number in range(100):\n",
    "    if number == 10:\n",
    "        break\n",
    "    print(number, end=' ')"
   ]
  },
  {
   "cell_type": "code",
   "execution_count": 15,
   "id": "36825722-5b41-47c8-8b95-bde126eb4d9e",
   "metadata": {},
   "outputs": [
    {
     "name": "stdout",
     "output_type": "stream",
     "text": [
      "0 1 2 3 4 6 7 8 9 "
     ]
    }
   ],
   "source": [
    "for number in range(10):\n",
    "    if number == 5:\n",
    "        continue\n",
    "    print(number, end=' ')"
   ]
  },
  {
   "cell_type": "markdown",
   "id": "adf9266d-5673-4f4e-87e3-69b000cfcfc8",
   "metadata": {},
   "source": [
    "Self Check 3.16"
   ]
  },
  {
   "cell_type": "code",
   "execution_count": 16,
   "id": "1c806a7d-711f-470f-afb3-2e6b26785393",
   "metadata": {},
   "outputs": [],
   "source": [
    "i = 1"
   ]
  },
  {
   "cell_type": "code",
   "execution_count": 17,
   "id": "e2ac15d1-3174-4db7-a454-a72ad37b61c2",
   "metadata": {},
   "outputs": [],
   "source": [
    "j = 2"
   ]
  },
  {
   "cell_type": "code",
   "execution_count": 18,
   "id": "af9be9a3-4432-451e-9ed9-7be74be34801",
   "metadata": {},
   "outputs": [],
   "source": [
    "k = 3"
   ]
  },
  {
   "cell_type": "code",
   "execution_count": 19,
   "id": "ef835896-1bd6-4382-bcd2-04a0cafcd83a",
   "metadata": {},
   "outputs": [],
   "source": [
    "m = 2"
   ]
  },
  {
   "cell_type": "code",
   "execution_count": 20,
   "id": "9ed0acba-c976-48df-8788-f6c97195f31c",
   "metadata": {},
   "outputs": [
    {
     "data": {
      "text/plain": [
       "True"
      ]
     },
     "execution_count": 20,
     "metadata": {},
     "output_type": "execute_result"
    }
   ],
   "source": [
    "(i >= 1) and (j < 4)"
   ]
  },
  {
   "cell_type": "code",
   "execution_count": 21,
   "id": "e13a9774-6fd8-40f3-bf76-c7b4c95a3662",
   "metadata": {},
   "outputs": [
    {
     "data": {
      "text/plain": [
       "False"
      ]
     },
     "execution_count": 21,
     "metadata": {},
     "output_type": "execute_result"
    }
   ],
   "source": [
    "(m <= 99) and (k < m)"
   ]
  },
  {
   "cell_type": "code",
   "execution_count": 22,
   "id": "191a66af-5a25-4ed8-abd3-eadd418e5b78",
   "metadata": {},
   "outputs": [
    {
     "data": {
      "text/plain": [
       "True"
      ]
     },
     "execution_count": 22,
     "metadata": {},
     "output_type": "execute_result"
    }
   ],
   "source": [
    "(j >= 1) or (k == m)"
   ]
  },
  {
   "cell_type": "code",
   "execution_count": 23,
   "id": "d4319197-d6b5-4ae5-8cbf-4573d0f29b38",
   "metadata": {},
   "outputs": [
    {
     "data": {
      "text/plain": [
       "False"
      ]
     },
     "execution_count": 23,
     "metadata": {},
     "output_type": "execute_result"
    }
   ],
   "source": [
    "(k + m < j) or (3 - j >= k)"
   ]
  },
  {
   "cell_type": "code",
   "execution_count": 24,
   "id": "f7ce4d13-dbb1-4f1d-adc8-c2762fb3a2f9",
   "metadata": {},
   "outputs": [
    {
     "data": {
      "text/plain": [
       "False"
      ]
     },
     "execution_count": 24,
     "metadata": {},
     "output_type": "execute_result"
    }
   ],
   "source": [
    "not (k > m)"
   ]
  },
  {
   "cell_type": "markdown",
   "id": "0a125dbd-62a6-4068-92e5-fc4bcdfae6e0",
   "metadata": {},
   "source": [
    "Self Check 3.17"
   ]
  },
  {
   "cell_type": "code",
   "execution_count": 25,
   "id": "264e3ca7-b96c-4ef5-a739-3c4f8724a774",
   "metadata": {},
   "outputs": [],
   "source": [
    "values = [47, 95, 88, 73, 88, 84]"
   ]
  },
  {
   "cell_type": "code",
   "execution_count": 26,
   "id": "db456fa5-df66-4457-8aaf-fa9311a65a29",
   "metadata": {},
   "outputs": [
    {
     "data": {
      "text/plain": [
       "6"
      ]
     },
     "execution_count": 26,
     "metadata": {},
     "output_type": "execute_result"
    }
   ],
   "source": [
    "len(values)"
   ]
  },
  {
   "cell_type": "code",
   "execution_count": 27,
   "id": "0586570c-ffee-4962-9c5e-0ce129c6b5f8",
   "metadata": {},
   "outputs": [
    {
     "data": {
      "text/plain": [
       "475"
      ]
     },
     "execution_count": 27,
     "metadata": {},
     "output_type": "execute_result"
    }
   ],
   "source": [
    "sum(values)"
   ]
  },
  {
   "cell_type": "code",
   "execution_count": 28,
   "id": "559e7ab6-3c22-4f01-80e2-592a33668710",
   "metadata": {},
   "outputs": [
    {
     "data": {
      "text/plain": [
       "79.16666666666667"
      ]
     },
     "execution_count": 28,
     "metadata": {},
     "output_type": "execute_result"
    }
   ],
   "source": [
    "sum(values) / len(values)"
   ]
  },
  {
   "cell_type": "code",
   "execution_count": 29,
   "id": "b3cf0191-4b54-439c-89d3-a8320b691442",
   "metadata": {},
   "outputs": [],
   "source": [
    "import statistics"
   ]
  },
  {
   "cell_type": "code",
   "execution_count": 30,
   "id": "93b4ef51-be32-4066-a3cf-8598a94aa94a",
   "metadata": {},
   "outputs": [
    {
     "data": {
      "text/plain": [
       "79.16666666666667"
      ]
     },
     "execution_count": 30,
     "metadata": {},
     "output_type": "execute_result"
    }
   ],
   "source": [
    "statistics.mean(values)"
   ]
  },
  {
   "cell_type": "code",
   "execution_count": 31,
   "id": "5d8d85b8-dc0b-4aa4-a122-dac6016aeded",
   "metadata": {},
   "outputs": [
    {
     "data": {
      "text/plain": [
       "86.0"
      ]
     },
     "execution_count": 31,
     "metadata": {},
     "output_type": "execute_result"
    }
   ],
   "source": [
    "statistics.median(values)"
   ]
  },
  {
   "cell_type": "code",
   "execution_count": 32,
   "id": "fdc65436-c753-44d2-94a3-edecb24904d9",
   "metadata": {},
   "outputs": [
    {
     "data": {
      "text/plain": [
       "88"
      ]
     },
     "execution_count": 32,
     "metadata": {},
     "output_type": "execute_result"
    }
   ],
   "source": [
    "statistics.mode(values)"
   ]
  },
  {
   "cell_type": "markdown",
   "id": "2bc010c2-3cc3-42c4-9f33-d86f51481e96",
   "metadata": {},
   "source": [
    "Own Data - Question 8"
   ]
  },
  {
   "cell_type": "code",
   "execution_count": 33,
   "id": "83d63d74-bdb9-44e9-894d-fc5890f0ba4d",
   "metadata": {},
   "outputs": [],
   "source": [
    "scores = [147, 139, 141, 136, 153, 154, 120, 151, 145, 156, 136, 95, 146, 159, 123, 112, 145, 150, 148, 92, 142, 125, 135, 133, 145, 155, 139]"
   ]
  },
  {
   "cell_type": "code",
   "execution_count": 34,
   "id": "17498858-1225-4742-8aa2-41f74bfe93cb",
   "metadata": {},
   "outputs": [
    {
     "data": {
      "text/plain": [
       "27"
      ]
     },
     "execution_count": 34,
     "metadata": {},
     "output_type": "execute_result"
    }
   ],
   "source": [
    "len(scores)"
   ]
  },
  {
   "cell_type": "code",
   "execution_count": 35,
   "id": "93f5ad2d-bfd1-4f54-84d4-c5cb4d605a00",
   "metadata": {},
   "outputs": [
    {
     "data": {
      "text/plain": [
       "3722"
      ]
     },
     "execution_count": 35,
     "metadata": {},
     "output_type": "execute_result"
    }
   ],
   "source": [
    "sum(scores)"
   ]
  },
  {
   "cell_type": "code",
   "execution_count": 36,
   "id": "8eb775c3-44dd-4927-b62f-95bf9b79369f",
   "metadata": {},
   "outputs": [
    {
     "data": {
      "text/plain": [
       "137.85185185185185"
      ]
     },
     "execution_count": 36,
     "metadata": {},
     "output_type": "execute_result"
    }
   ],
   "source": [
    "sum(scores) / len(scores)"
   ]
  },
  {
   "cell_type": "code",
   "execution_count": 37,
   "id": "946c0955-8942-4e34-a201-d6787d49f5dd",
   "metadata": {},
   "outputs": [
    {
     "data": {
      "text/plain": [
       "137.85185185185185"
      ]
     },
     "execution_count": 37,
     "metadata": {},
     "output_type": "execute_result"
    }
   ],
   "source": [
    "statistics.mean(scores)"
   ]
  },
  {
   "cell_type": "code",
   "execution_count": 38,
   "id": "02e07dad-cd41-47aa-9053-7808bc35657e",
   "metadata": {},
   "outputs": [
    {
     "data": {
      "text/plain": [
       "142"
      ]
     },
     "execution_count": 38,
     "metadata": {},
     "output_type": "execute_result"
    }
   ],
   "source": [
    "statistics.median(scores)"
   ]
  },
  {
   "cell_type": "code",
   "execution_count": 39,
   "id": "95cc3c1f-5029-49dd-93ed-8fe59f975121",
   "metadata": {},
   "outputs": [
    {
     "data": {
      "text/plain": [
       "145"
      ]
     },
     "execution_count": 39,
     "metadata": {},
     "output_type": "execute_result"
    }
   ],
   "source": [
    "statistics.mode(scores)"
   ]
  }
 ],
 "metadata": {
  "kernelspec": {
   "display_name": "Python 3 (ipykernel)",
   "language": "python",
   "name": "python3"
  },
  "language_info": {
   "codemirror_mode": {
    "name": "ipython",
    "version": 3
   },
   "file_extension": ".py",
   "mimetype": "text/x-python",
   "name": "python",
   "nbconvert_exporter": "python",
   "pygments_lexer": "ipython3",
   "version": "3.9.7"
  }
 },
 "nbformat": 4,
 "nbformat_minor": 5
}
